{
 "cells": [
  {
   "cell_type": "code",
   "execution_count": 3,
   "id": "a5ddd66c",
   "metadata": {},
   "outputs": [
    {
     "data": {
      "application/javascript": [
       "MathJax.Hub.Config({\n",
       "    TeX: { equationNumbers: { autoNumber: \"AMS\" } }\n",
       "});\n"
      ],
      "text/plain": [
       "<IPython.core.display.Javascript object>"
      ]
     },
     "metadata": {},
     "output_type": "display_data"
    }
   ],
   "source": [
    "%%javascript\n",
    "MathJax.Hub.Config({\n",
    "    TeX: { equationNumbers: { autoNumber: \"AMS\" } }\n",
    "});"
   ]
  },
  {
   "cell_type": "markdown",
   "id": "c746934d",
   "metadata": {},
   "source": [
    "Import all the necessary library in the cell below"
   ]
  },
  {
   "cell_type": "code",
   "execution_count": 4,
   "id": "1811c293",
   "metadata": {},
   "outputs": [],
   "source": [
    "import pandas as pd\n",
    "import seaborn as sns\n",
    "import numpy as np\n",
    "from numpy.linalg import solve\n",
    "from scipy.optimize import fsolve\n",
    "from scipy.integrate import odeint,quad\n",
    "import matplotlib.pyplot as plt\n",
    "import numpy as np\n",
    "import pandas as pd\n",
    "import statsmodels.api as sta\n",
    "from sklearn.linear_model import LogisticRegression\n",
    "from sklearn.model_selection import train_test_split\n",
    "from sklearn.metrics import confusion_matrix, accuracy_score\n",
    "from sklearn.preprocessing import LabelBinarizer\n",
    "from sklearn.linear_model import LinearRegression"
   ]
  },
  {
   "cell_type": "markdown",
   "id": "f8915504",
   "metadata": {},
   "source": [
    "**Problem 1**\n",
    "\n",
    "1- Load the titanic dataset from the seaborn package."
   ]
  },
  {
   "cell_type": "code",
   "execution_count": 5,
   "id": "27fe6013",
   "metadata": {},
   "outputs": [],
   "source": [
    "data = sns.load_dataset(\"titanic\")"
   ]
  },
  {
   "cell_type": "markdown",
   "id": "447328fa",
   "metadata": {},
   "source": [
    "2- how many columns in this dataset?"
   ]
  },
  {
   "cell_type": "code",
   "execution_count": 6,
   "id": "2a1d8f07",
   "metadata": {},
   "outputs": [
    {
     "data": {
      "text/plain": [
       "15"
      ]
     },
     "execution_count": 6,
     "metadata": {},
     "output_type": "execute_result"
    }
   ],
   "source": [
    "data.shape[1]"
   ]
  },
  {
   "cell_type": "markdown",
   "id": "b55917b4",
   "metadata": {},
   "source": [
    "3- list the names of all columns and describe the datatype of each column? "
   ]
  },
  {
   "cell_type": "code",
   "execution_count": 7,
   "id": "f78025c1",
   "metadata": {},
   "outputs": [
    {
     "name": "stdout",
     "output_type": "stream",
     "text": [
      "name of columns Index(['survived', 'pclass', 'sex', 'age', 'sibsp', 'parch', 'fare',\n",
      "       'embarked', 'class', 'who', 'adult_male', 'deck', 'embark_town',\n",
      "       'alive', 'alone'],\n",
      "      dtype='object')\n",
      "<class 'pandas.core.frame.DataFrame'>\n",
      "RangeIndex: 891 entries, 0 to 890\n",
      "Data columns (total 15 columns):\n",
      " #   Column       Non-Null Count  Dtype   \n",
      "---  ------       --------------  -----   \n",
      " 0   survived     891 non-null    int64   \n",
      " 1   pclass       891 non-null    int64   \n",
      " 2   sex          891 non-null    object  \n",
      " 3   age          714 non-null    float64 \n",
      " 4   sibsp        891 non-null    int64   \n",
      " 5   parch        891 non-null    int64   \n",
      " 6   fare         891 non-null    float64 \n",
      " 7   embarked     889 non-null    object  \n",
      " 8   class        891 non-null    category\n",
      " 9   who          891 non-null    object  \n",
      " 10  adult_male   891 non-null    bool    \n",
      " 11  deck         203 non-null    category\n",
      " 12  embark_town  889 non-null    object  \n",
      " 13  alive        891 non-null    object  \n",
      " 14  alone        891 non-null    bool    \n",
      "dtypes: bool(2), category(2), float64(2), int64(4), object(5)\n",
      "memory usage: 80.6+ KB\n"
     ]
    }
   ],
   "source": [
    "print(\"name of columns\",data.columns)\n",
    "data.info()"
   ]
  },
  {
   "cell_type": "markdown",
   "id": "6fa74819",
   "metadata": {},
   "source": [
    "4- Count the number of missing values in each column"
   ]
  },
  {
   "cell_type": "code",
   "execution_count": 8,
   "id": "b7b20810",
   "metadata": {},
   "outputs": [
    {
     "data": {
      "text/plain": [
       "survived         0\n",
       "pclass           0\n",
       "sex              0\n",
       "age            177\n",
       "sibsp            0\n",
       "parch            0\n",
       "fare             0\n",
       "embarked         2\n",
       "class            0\n",
       "who              0\n",
       "adult_male       0\n",
       "deck           688\n",
       "embark_town      2\n",
       "alive            0\n",
       "alone            0\n",
       "dtype: int64"
      ]
     },
     "execution_count": 8,
     "metadata": {},
     "output_type": "execute_result"
    }
   ],
   "source": [
    "data.isnull().sum()"
   ]
  },
  {
   "cell_type": "markdown",
   "id": "5b87c877",
   "metadata": {},
   "source": [
    "5- Clean the dataset by removing every record that contains a missing value? "
   ]
  },
  {
   "cell_type": "code",
   "execution_count": 9,
   "id": "def3d590",
   "metadata": {},
   "outputs": [],
   "source": [
    "data.dropna(axis=0,inplace=True)"
   ]
  },
  {
   "cell_type": "markdown",
   "id": "890db3ea",
   "metadata": {},
   "source": [
    "6 - Compute the average age of females and males who survived? "
   ]
  },
  {
   "cell_type": "code",
   "execution_count": 10,
   "id": "1b94fd9b",
   "metadata": {},
   "outputs": [
    {
     "name": "stdout",
     "output_type": "stream",
     "text": [
      "The average of female is 33.1 years old\n",
      "The average of male is 32.6 years old\n"
     ]
    }
   ],
   "source": [
    "d1=data.loc[(data['sex'] == 'female') & (data['survived'] == 1)].age.mean()\n",
    "d2=data.loc[(data['sex'] == 'male') & (data['survived'] == 1)].age.mean()\n",
    "print(\"The average of female is\",round((d1),1),\"years old\")\n",
    "print(\"The average of male is\",round((d2),1),\"years old\")"
   ]
  },
  {
   "cell_type": "markdown",
   "id": "d655ac41",
   "metadata": {},
   "source": [
    "6 - Count how many people survived by age and sex. Display the result as DataFrame. "
   ]
  },
  {
   "cell_type": "code",
   "execution_count": 11,
   "id": "3fdb952d",
   "metadata": {},
   "outputs": [
    {
     "data": {
      "text/html": [
       "<div>\n",
       "<style scoped>\n",
       "    .dataframe tbody tr th:only-of-type {\n",
       "        vertical-align: middle;\n",
       "    }\n",
       "\n",
       "    .dataframe tbody tr th {\n",
       "        vertical-align: top;\n",
       "    }\n",
       "\n",
       "    .dataframe thead th {\n",
       "        text-align: right;\n",
       "    }\n",
       "</style>\n",
       "<table border=\"1\" class=\"dataframe\">\n",
       "  <thead>\n",
       "    <tr style=\"text-align: right;\">\n",
       "      <th></th>\n",
       "      <th></th>\n",
       "      <th>survived</th>\n",
       "    </tr>\n",
       "    <tr>\n",
       "      <th>sex</th>\n",
       "      <th>age</th>\n",
       "      <th></th>\n",
       "    </tr>\n",
       "  </thead>\n",
       "  <tbody>\n",
       "    <tr>\n",
       "      <th rowspan=\"5\" valign=\"top\">female</th>\n",
       "      <th>4.0</th>\n",
       "      <td>2</td>\n",
       "    </tr>\n",
       "    <tr>\n",
       "      <th>14.0</th>\n",
       "      <td>1</td>\n",
       "    </tr>\n",
       "    <tr>\n",
       "      <th>15.0</th>\n",
       "      <td>1</td>\n",
       "    </tr>\n",
       "    <tr>\n",
       "      <th>16.0</th>\n",
       "      <td>3</td>\n",
       "    </tr>\n",
       "    <tr>\n",
       "      <th>17.0</th>\n",
       "      <td>2</td>\n",
       "    </tr>\n",
       "    <tr>\n",
       "      <th>...</th>\n",
       "      <th>...</th>\n",
       "      <td>...</td>\n",
       "    </tr>\n",
       "    <tr>\n",
       "      <th rowspan=\"5\" valign=\"top\">male</th>\n",
       "      <th>51.0</th>\n",
       "      <td>1</td>\n",
       "    </tr>\n",
       "    <tr>\n",
       "      <th>52.0</th>\n",
       "      <td>1</td>\n",
       "    </tr>\n",
       "    <tr>\n",
       "      <th>56.0</th>\n",
       "      <td>1</td>\n",
       "    </tr>\n",
       "    <tr>\n",
       "      <th>60.0</th>\n",
       "      <td>1</td>\n",
       "    </tr>\n",
       "    <tr>\n",
       "      <th>80.0</th>\n",
       "      <td>1</td>\n",
       "    </tr>\n",
       "  </tbody>\n",
       "</table>\n",
       "<p>68 rows × 1 columns</p>\n",
       "</div>"
      ],
      "text/plain": [
       "             survived\n",
       "sex    age           \n",
       "female 4.0          2\n",
       "       14.0         1\n",
       "       15.0         1\n",
       "       16.0         3\n",
       "       17.0         2\n",
       "...               ...\n",
       "male   51.0         1\n",
       "       52.0         1\n",
       "       56.0         1\n",
       "       60.0         1\n",
       "       80.0         1\n",
       "\n",
       "[68 rows x 1 columns]"
      ]
     },
     "execution_count": 11,
     "metadata": {},
     "output_type": "execute_result"
    }
   ],
   "source": [
    "data[data[\"survived\"]==1].groupby(by=[\"sex\", \"age\"]).count()['survived'].to_frame()"
   ]
  },
  {
   "cell_type": "markdown",
   "id": "c2b3bb3e",
   "metadata": {},
   "source": [
    "7- Build a logistic regression model using the pclass, age, parch, sex, and fare columns as explanatory variables and the survived column as response variable"
   ]
  },
  {
   "cell_type": "code",
   "execution_count": 12,
   "id": "3efaaee3",
   "metadata": {},
   "outputs": [
    {
     "data": {
      "text/plain": [
       "LogisticRegression(random_state=0)"
      ]
     },
     "execution_count": 12,
     "metadata": {},
     "output_type": "execute_result"
    }
   ],
   "source": [
    "lb = LabelBinarizer()\n",
    "data.sex = lb.fit_transform(data.sex)\n",
    "data.sex.unique()\n",
    "X = data[[\"pclass\", \"age\", \"parch\",\"sex\",\"fare\"]].values.reshape(-1,5)\n",
    "y = data[\"survived\"].values.flatten()\n",
    "X_train, X_test, y_train, y_test = train_test_split(X, y, test_size = 0.2, random_state = 0)\n",
    "classifier = LogisticRegression(random_state = 0, multi_class='auto')\n",
    "classifier.fit(X_train, y_train)"
   ]
  },
  {
   "cell_type": "markdown",
   "id": "a24e015f",
   "metadata": {},
   "source": [
    "8- Measure its performance using accuracy score and display the confusion matrix. "
   ]
  },
  {
   "cell_type": "code",
   "execution_count": 13,
   "id": "fe043e7d",
   "metadata": {},
   "outputs": [
    {
     "name": "stdout",
     "output_type": "stream",
     "text": [
      "[[ 6  4]\n",
      " [ 2 25]]\n"
     ]
    },
    {
     "data": {
      "image/png": "[encoded data removed]",
      "text/plain": [
       "<Figure size 432x288 with 2 Axes>"
      ]
     },
     "metadata": {
      "needs_background": "light"
     },
     "output_type": "display_data"
    }
   ],
   "source": [
    "# Predicting the Test set results\n",
    "y_pred = classifier.predict(X_test)\n",
    "# Predict probabilities\n",
    "probs_y=classifier.predict_proba(X_test)### Print results \n",
    "probs_y = np.round(probs_y, 2)\n",
    "probs_y\n",
    "result = pd.DataFrame(probs_y, columns= np.unique(data.survived))\n",
    "result.insert(loc=0, column=\"Test\", value=y_test)\n",
    "result.insert(loc=1, column ='Predicted', value=y_pred)\n",
    "con_mat = confusion_matrix(y_test, y_pred)\n",
    "print(con_mat)\n",
    "# confusion matrix sns heatmap \n",
    "#ax = plt.axes()\n",
    "sns.heatmap(con_mat, annot=True, annot_kws={\"size\": 20},cmap=\"summer_r\", xticklabels=np.unique(data.survived),\n",
    "           yticklabels=np.unique(data.survived))\n",
    "plt.title(\"Confusion Matrix of the classifier\")\n",
    "plt.ylabel('Actual labels')\n",
    "plt.xlabel('Predicted labels')\n",
    "plt.show()"
   ]
  },
  {
   "cell_type": "markdown",
   "id": "c9cc0418",
   "metadata": {},
   "source": [
    "9- Interpret the result"
   ]
  },
  {
   "cell_type": "code",
   "execution_count": 14,
   "id": "d3e92233",
   "metadata": {},
   "outputs": [
    {
     "name": "stdout",
     "output_type": "stream",
     "text": [
      "The Accuracy of the model produced by the confusion matrix of the classifer is 84 %\n",
      "\n",
      "The Misclassification of the model produced by the confusion matrix of the classifer is 16 %\n",
      "\n",
      "The Precision of the model produced by the confusion matrix of the classifer is 93 %\n",
      "\n",
      "The Sensitivity of the model produced by the confusion matrix of the classifer is 86 %\n",
      "\n",
      "The Specificity of the model produced by the confusion matrix of the classifer is 75 %\n"
     ]
    }
   ],
   "source": [
    "AP00=6\n",
    "AP01=4\n",
    "AP10=2\n",
    "AP11=25\n",
    "Accuracy = round(((AP00+AP11)/(AP00+AP01+AP10+AP11))*100)\n",
    "Misclassification = 100-Accuracy\n",
    "Precision = round(((AP11)/(AP10+AP11))*100)\n",
    "Sensitivity = round(((AP11)/(AP01+AP11))*100)\n",
    "Specificity = round(((AP00)/(AP00+AP10))*100)\n",
    "print(\"The Accuracy of the model produced by the confusion matrix of the classifer is\",Accuracy,\"%\")\n",
    "print(\"\\nThe Misclassification of the model produced by the confusion matrix of the classifer is\",Misclassification,\"%\")\n",
    "print(\"\\nThe Precision of the model produced by the confusion matrix of the classifer is\",Precision,\"%\")\n",
    "print(\"\\nThe Sensitivity of the model produced by the confusion matrix of the classifer is\",Sensitivity,\"%\")\n",
    "print(\"\\nThe Specificity of the model produced by the confusion matrix of the classifer is\",Specificity,\"%\")"
   ]
  },
  {
   "cell_type": "markdown",
   "id": "fdf24a27",
   "metadata": {},
   "source": [
    "A confusion matrix is a summary of prediction results on a classification problem. \n",
    "Confusion matrices have two types of errors: Type I and Type II. If the accuracy of \n",
    "the classifier is considered acceptable, the classifier can be used to classify future\n",
    "data tuples for which the class label is not known. \n",
    "Since the Accuracy of the classifier and the precision of the classifier is relatively high, \n",
    "the we say thatthe classifier can also be used to classify future data, even if the calss label is unknown."
   ]
  },
  {
   "cell_type": "markdown",
   "id": "46e969f3",
   "metadata": {},
   "source": [
    "**Problem 2**\n",
    "\n",
    "Let assume we have the one dimensional process model\n",
    "\\begin{equation}\n",
    "x_i = \\alpha x_{i-1}+\\delta_i, \\text{ with }\\delta_i\\thicksim \\mathcal{N}(0,q^2),\\;\\; i = 1,\\cdots,N ,\n",
    "\\end{equation}\n",
    "and $x_0\\thicksim \\mathcal{N}(\\mu,r^2)$. Assume the data model is \n",
    "\n",
    "\\begin{equation}\n",
    "y_i = h_i x_{i}+\\epsilon_i, \\text{ with }\\epsilon_i\\thicksim \\mathcal{N}(0,s^2),\\;\\; i = 1,\\cdots,N ,\n",
    "\\end{equation}\n",
    "where\n",
    "$$\n",
    "h_i =\\begin{cases}\n",
    " 1, \\;\\;& i=&1,\\cdots,N_1\\\\\n",
    "0.1, & i=&N_1+1,\\cdots, N_2\\\\\n",
    "0.9, & i=&N_2+1,\\cdots,N\n",
    "\\end{cases}.\n",
    "$$\n",
    "Note that $N_1<N_2<N$.\n",
    "\n",
    "1- Write Python function called **Process** that takes $\\alpha, N, q, \\mu, r$ and return the array $x$ of the $x_i, i=0,\\cdots,N$."
   ]
  },
  {
   "cell_type": "code",
   "execution_count": 15,
   "id": "5e9de586",
   "metadata": {},
   "outputs": [],
   "source": [
    "def Process(a,N,q,u,r):\n",
    "    x=np.zeros(N+1)\n",
    "    x[0]=np.random.normal(u,r)\n",
    "    for i in range(1,N+1):\n",
    "        x[i]=a*x[i-1]+np.random.normal(0,q)\n",
    "    return x"
   ]
  },
  {
   "cell_type": "markdown",
   "id": "926edbdd",
   "metadata": {},
   "source": [
    "2- Write Python function called **Data** that takes array $x$ of the $x_i$, $s, N_1, N_2, N$ and return the array $y$ of $y_i,i=1,\\cdots,N$"
   ]
  },
  {
   "cell_type": "code",
   "execution_count": 16,
   "id": "44f0b4ca",
   "metadata": {},
   "outputs": [],
   "source": [
    "\n",
    "def Data(x,s,N1,N2,N):\n",
    "    global h\n",
    "    h=np.ones(N)\n",
    "    h[N1+1:N2+1]=0.1*h[N1+1:N2+1]\n",
    "    h[N2+1:]=0.9*h[N2+1:]\n",
    "    for i in range(N):\n",
    "        y=h*x[1:]+np.random.normal(0,s,N)\n",
    "    return y"
   ]
  },
  {
   "cell_type": "markdown",
   "id": "08114e2e",
   "metadata": {},
   "source": [
    "3- Write a program to plot the data on the same graph as the process model, for \\begin{equation}\n",
    "r = 0.1, q=0.4, s=0.9, \\mu = 0.01, h= 1, \\alpha = 0.8,N = 50,  N_1 = 20,  N_2 = 30\n",
    "\\end{equation}"
   ]
  },
  {
   "cell_type": "code",
   "execution_count": 17,
   "id": "769d1b0a",
   "metadata": {},
   "outputs": [
    {
     "data": {
      "image/png": "[encoded data removed]",
      "text/plain": [
       "<Figure size 432x288 with 1 Axes>"
      ]
     },
     "metadata": {
      "needs_background": "light"
     },
     "output_type": "display_data"
    }
   ],
   "source": [
    "\n",
    "r=0.1\n",
    "q=0.4\n",
    "s=0.9\n",
    "u=0.01\n",
    "a=0.8\n",
    "N=50\n",
    "N1=20\n",
    "N2=30\n",
    "\n",
    "x=Process(a,N,q,u,r)\n",
    "y= Data(x,s,N1,N2,N)\n",
    "plt.plot(np.arange(N+1),x,label=\"x\")\n",
    "plt.plot(np.arange(1,N+1),y,label=\"y\")\n",
    "plt.legend()\n",
    "plt.show()"
   ]
  },
  {
   "cell_type": "markdown",
   "id": "e991b9bd",
   "metadata": {},
   "source": [
    "4- Use the general formulas given for the Kalman filter to find the one dimensional formulas for\n",
    "\n",
    "\\begin{equation}\n",
    "\\mu_{1\\mid 0}, \\sigma_{1\\mid 0}, k_1, \\mu_{1\\mid 1},\\sigma_{1\\mid 1},\n",
    "\\end{equation}\n",
    "in term of $\\alpha, q,r,s,\\mu$ and $y_1$ (write the answer as markdown)"
   ]
  },
  {
   "cell_type": "markdown",
   "id": "d952288a",
   "metadata": {},
   "source": [
    "$$\\mu_{1|0}=\\alpha \\mu$$\n",
    "$$\\sigma_{1\\mid 0}=q+\\alpha^2 r$$\n",
    "$$k_1=(q+\\alpha^2 r)(q+\\alpha^2 r+s)^{-1}$$\n",
    "$$\\mu_{1\\mid 1}=\\alpha \\mu + (q+\\alpha^2 r)(q+\\alpha^2 r+s)^{-1}(y_1-\\alpha \\mu)$$\n",
    "$$\\sigma_{1\\mid 1}=(1-(q+\\alpha^2 r)(q+\\alpha^2 r+s)^{-1})(q+\\alpha^2 r)$$"
   ]
  },
  {
   "cell_type": "markdown",
   "id": "6deefef9",
   "metadata": {},
   "source": [
    "5- Using the general formulas given for the Kalman filter, write Python program to calculate\n",
    "\\begin{equation}\n",
    "\\mu_{i\\mid i-1}, \\sigma_{i\\mid i-1}, k_i, \\mu_{i\\mid i},\\sigma_{i\\mid i},\n",
    "\\end{equation}\n",
    "for $i=1,\\cdots, N$. Be sure to\n",
    "initialize the loop over $i$. Hint: I suggest using $\\text{mu\\_old}[i]$ for $\\mu_{i\\mid i-1}$, $\\text{sigma\\_old}[i]$ for $\\sigma_{i\\mid i-1}$, $\\text{mu\\_new}[i]$ for $\\mu_{i\\mid i}$, $\\text{sigma\\_new}[i]$ for $\\sigma_{i\\mid i}$"
   ]
  },
  {
   "cell_type": "code",
   "execution_count": 18,
   "id": "ebda13cb",
   "metadata": {},
   "outputs": [
    {
     "name": "stdout",
     "output_type": "stream",
     "text": [
      "forcasted are [ 0.008       0.24492669  1.64430377  0.35045072  1.29703826  1.84535095\n",
      " -0.61625929  0.82371683  0.24795529  0.03032178 -0.22547441  0.41990057\n",
      "  0.96756445  0.4962482   0.69934725 -0.2914603   0.63724661 -0.65876364\n",
      "  0.40304014  0.21217743 -0.08746962  0.75706694  0.91465346  1.08585994\n",
      "  0.4267855   0.73552681 -0.03043776 -0.68729665 -1.51682651 -1.38555664\n",
      " -2.06123528 -1.61304613  0.43988584 -1.11895023 -0.64530269  1.40866161\n",
      "  1.12359535  0.14798747  0.73793597  0.95700225  0.25263536 -0.14779253\n",
      "  0.51869589  0.43397044  0.21393523  0.36154493 -0.1314807  -0.16505697\n",
      " -0.32596824  0.88425768] [0.464      0.62109091 0.45512456 0.45247106 0.45241568 0.45241452\n",
      " 0.4524145  0.4524145  0.4524145  0.4524145  0.4524145  0.4524145\n",
      " 0.4524145  0.4524145  0.4524145  0.4524145  0.4524145  0.4524145\n",
      " 0.4524145  0.4524145  0.4524145  0.4524145  0.67701282 0.80581407\n",
      " 0.87726252 0.91616665 0.93713604 0.94837671 0.95438455 0.95759054\n",
      " 0.95929991 0.96021092 0.47001087 0.46257571 0.46236718 0.46236125\n",
      " 0.46236108 0.46236108 0.46236108 0.46236108 0.46236108 0.46236108\n",
      " 0.46236108 0.46236108 0.46236108 0.46236108 0.46236108 0.46236108\n",
      " 0.46236108 0.46236108]\n",
      "filtred are [ 0.30615836  2.05537971  0.43806341  1.62129783  2.30668869 -0.77032412\n",
      "  1.02964603  0.30994411  0.03790222 -0.28184301  0.52487572  1.20945556\n",
      "  0.62031025  0.87418406 -0.36432537  0.79655826 -0.82345456  0.50380017\n",
      "  0.26522179 -0.10933703  0.94633367  1.14331682  1.35732493  0.53348188\n",
      "  0.91940851 -0.0380472  -0.85912082 -1.89603314 -1.7319458  -2.57654411\n",
      " -2.01630766  0.5498573  -1.39868778 -0.80662836  1.76082702  1.40449419\n",
      "  0.18498433  0.92241996  1.19625281  0.31579419 -0.18474066  0.64836986\n",
      "  0.54246305  0.26741904  0.45193117 -0.16435088 -0.20632121 -0.4074603\n",
      "  1.1053221   1.06312157] [0.34545455 0.08613212 0.08198602 0.0818995  0.08189769 0.08189765\n",
      " 0.08189765 0.08189765 0.08189765 0.08189765 0.08189765 0.08189765\n",
      " 0.08189765 0.08189765 0.08189765 0.08189765 0.08189765 0.08189765\n",
      " 0.08189765 0.08189765 0.08189765 0.43283253 0.63408448 0.74572269\n",
      " 0.80651039 0.83927506 0.85683861 0.86622587 0.87123521 0.87390611\n",
      " 0.87532956 0.10939198 0.09777455 0.09744871 0.09743945 0.09743919\n",
      " 0.09743918 0.09743918 0.09743918 0.09743918 0.09743918 0.09743918\n",
      " 0.09743918 0.09743918 0.09743918 0.09743918 0.09743918 0.09743918\n",
      " 0.09743918 0.09743918]\n"
     ]
    }
   ],
   "source": [
    "def fs(al,N,q,N1,N2,r,mu,s):\n",
    "    mu_old=np.empty(N)\n",
    "    mu_new=np.empty(N)\n",
    "    k=np.empty(N+1)\n",
    "    sigma_new=np.empty(N)\n",
    "    sigma_old=np.empty(N)\n",
    "    mu_old[0]=al*mu\n",
    "    sigma_old[0]= q+r*al**2\n",
    "    k[0]=(q+r*al**2)*(q+r*al**2+s)**(-1)\n",
    "    sigma_new[0]=al*mu+(q+r*al**2)*(q+r*al**2+s)**(-1)*(1-al*mu)\n",
    "    mu_new[0]=(1-(q+r*al**2)*(q+r*al**2+s)**(-1))*(q+r*al**2)\n",
    "\n",
    "    \n",
    "    for i in range(1,N):\n",
    "        mu_old[i]=al*mu_new[i-1]\n",
    "        sigma_old[i]=q+al*sigma_new[i-1]*al\n",
    "        k[i]=sigma_old[i]*h[i]*(h[i]*sigma_old[i]*h[i]+r)**(-1)\n",
    "        mu_new[i]=mu_old[i]+k[i]*(y[i]-h[i]*mu_old[i])\n",
    "        sigma_new[i]=(1-k[i]*h[i])*sigma_old[i]\n",
    "        \n",
    "    return mu_new ,sigma_new, mu_old, sigma_old\n",
    "mu_new, sigma_new, mu_old, sigma_old= fs(0.8,50,0.4,20,30,0.1,0.01,0.9) \n",
    "print(\"forcasted are\",mu_old, sigma_old)\n",
    "print(\"filtred are\",mu_new, sigma_new)"
   ]
  },
  {
   "cell_type": "markdown",
   "id": "8b9f5d18",
   "metadata": {},
   "source": [
    "6- Write a Python program to plot the states $x_i$ and data $y_i$ together with the filtered and forecasted estimates on the same graph."
   ]
  },
  {
   "cell_type": "code",
   "execution_count": 19,
   "id": "c868fdb6",
   "metadata": {},
   "outputs": [
    {
     "data": {
      "image/png": "[encoded data removed]",
      "text/plain": [
       "<Figure size 432x288 with 1 Axes>"
      ]
     },
     "metadata": {
      "needs_background": "light"
     },
     "output_type": "display_data"
    }
   ],
   "source": [
    "plt.plot(np.arange(1,len(x)),np.random.normal(mu_old,sigma_old),label=\"forecasting\")\n",
    "plt.plot(np.arange(1,len(x)),np.random.normal(mu_new,sigma_new),label=\"filtering\")\n",
    "plt.plot(np.arange(0,len(x)),x,label=\"x\")\n",
    "plt.plot(np.arange(1,len(x)),y,label=\"y\")\n",
    "plt.legend()\n",
    "\n",
    "plt.show()"
   ]
  },
  {
   "cell_type": "markdown",
   "id": "908e0240",
   "metadata": {},
   "source": [
    "**Problem 3**\n",
    "\n",
    "1- Let $\\{ x_k\\}$ be a partition of $[a,b]$ such that $a=x_1<\\cdots<x_{N-1}<x_N=b$ and $H$ be the length of the $k$-th subinterval ($H = x_k - x_{k-1}$),\n",
    "then we have \n",
    "$$\\int_a^bf(x)dx \\approx \\sum_{k=2}^N \\frac{f(x_{k-1})+f(x_k)}{2}H = Z$$\n",
    "\n",
    "\n",
    "Write a function named <b>Trap</b> that takes $a,b,N, f$ as inputs and return Z. Here, ``N = 50`` is the default value."
   ]
  },
  {
   "cell_type": "code",
   "execution_count": 20,
   "id": "cff4115d",
   "metadata": {},
   "outputs": [],
   "source": [
    "def Trap(a,b,f,N=50):\n",
    "    H=(b-a)/(N-1)\n",
    "    x=np.linspace(a,b,N)\n",
    "    Z=0\n",
    "    for i in range(1,N):\n",
    "        Z=Z+H*(f(x[i-1])+f(x[i]))/2\n",
    "    return Z"
   ]
  },
  {
   "cell_type": "markdown",
   "id": "6d455ed2",
   "metadata": {},
   "source": [
    "2- Let $m_k$  be the midpoint of the subinterval $[x_k,x_{k+1}]$ for all $k=1,\\cdots,N-1$, we have \n",
    "\n",
    "$$\\int_a^bf(x)dx \\approx \\sum_{m_k} f(m_{k})H = W$$\n",
    "\n",
    "Write a function named <b>Mid</b> that takes $a,b,N, f$ as inputs and return W. Here, ``N = 50`` is the default value."
   ]
  },
  {
   "cell_type": "code",
   "execution_count": 21,
   "id": "f1648d52",
   "metadata": {},
   "outputs": [],
   "source": [
    "def Mid(a,b,f,N=50):\n",
    "    H=(b-a)/(N-1)\n",
    "    x=np.linspace(a,b,N)\n",
    "    W=0\n",
    "    for i in range(N-1):\n",
    "        m=(x[i]+x[i+1])/2\n",
    "        W=W+H*f(m)\n",
    "    return W"
   ]
  },
  {
   "cell_type": "markdown",
   "id": "dec53d7f",
   "metadata": {},
   "source": [
    "3- Using **Trap, Mid** and python inbuilt function **quad**, compute and display the integral \n",
    "\n",
    "$$A = \\int_0^{\\sqrt{\\ln(2)}}xe^{x^2}dx$$"
   ]
  },
  {
   "cell_type": "code",
   "execution_count": 22,
   "id": "066f0a44",
   "metadata": {},
   "outputs": [
    {
     "name": "stdout",
     "output_type": "stream",
     "text": [
      "WITH QUAD A= 0.4999999999999998\n",
      "WITH Trap A= 0.5000907539443507\n",
      "WITH Mid A= 0.49999999999989386\n"
     ]
    }
   ],
   "source": [
    "F=lambda x: x*np.exp(x**2)\n",
    "Aq=quad(F,0,np.log(2)**0.5)[0]\n",
    "print(\"WITH QUAD A=\",Aq)\n",
    "print(\"WITH Trap A=\",Trap(0,(np.log(2))**0.5,F))\n",
    "print(\"WITH Mid A=\",Mid(0,(np.log(2))**0.5,F,1000000))"
   ]
  },
  {
   "cell_type": "markdown",
   "id": "b4578b37",
   "metadata": {},
   "source": [
    "4- After computing the exact value of $A$, write a Python program that searches for the minimun values $N_{Trap}, N_{Mid}$ less than 10000 such that **Trap, Mid**, respectively, give a better approximation of $A$ then **quad**.  If any the value  $ N_{Trap}, N_{Mid}$ doesn't exist your program should print the string **No $N_{Trap}$ found** or **No $N_{Mid}$ found**, respectively."
   ]
  },
  {
   "cell_type": "code",
   "execution_count": 23,
   "id": "70a07efc",
   "metadata": {},
   "outputs": [
    {
     "name": "stdout",
     "output_type": "stream",
     "text": [
      "No Ntrap Found\n",
      "No N mid Found\n"
     ]
    }
   ],
   "source": [
    "\n",
    "Nt=9800\n",
    "Et=abs(0.5-Trap(0,(np.log(2))**0.5,F,Nt))\n",
    "while Nt<10000 and Et>=abs(0.5-Aq):\n",
    "    Nt+=1\n",
    "    Et=abs(0.5-Trap(0,(np.log(2))**0.5,F,Nt))\n",
    "if Nt>=10000:\n",
    "    print(\"No Ntrap Found\")\n",
    "else:\n",
    "    print(\"N Trap=\",Nt)\n",
    "\n",
    "        \n",
    "Nm=9800\n",
    "Em=abs(0.5-Mid(0,(np.log(2))**0.5,F,Nm))\n",
    "while Nm<10000 and Em>=abs(0.5-Aq):\n",
    "    Nm+=1\n",
    "    Em=abs(0.5-Mid(0,(np.log(2))**0.5,F,Nm))\n",
    "if Nm>=10000:\n",
    "    print(\"No N mid Found\")\n",
    "else:\n",
    "    print(\"N Mid=\",Nm)\n"
   ]
  },
  {
   "cell_type": "markdown",
   "id": "87059133",
   "metadata": {},
   "source": [
    "**Problem 4**\n",
    "\n",
    "Let $\\{ t_k\\}$ be a partition of $[a,b]$ such that $a=t_0<t_1<\\cdots<t_{N}=b$ and $H$ be the constant length of the $k$-th subinterval ($H = t_k - t_{k-1}$). Let us consider initial value problem\n",
    "\n",
    "\\begin{equation}\\label{eul2}\n",
    "  \\begin{cases}\n",
    "    \\dfrac{dz}{dt} = f(z,t),      & \\quad \\text{on } [a, b]\\\\\\\\\n",
    "    z(a) = c,\n",
    "  \\end{cases}\n",
    "\\end{equation}\n",
    "where $z,f,c\\in R^M$ i.e. $z = [x_1, x_2,\\cdots, x_{M}]$, $c = [x_1(a), x_2(a),\\cdots, x_{M}(a)]$ and $f = [f_1, f_2,\\cdots, f_{M}]$. Note that \\eqref{eul2} is a the general form of system of ODEs. \n",
    "\n",
    "Let $t, z_k,Z$ defined as follows $$t=[t_0,t_2,\\cdots,t_{N-1},t_{N}],\\quad z_k = [x_1(t_k), x_2(t_k),\\cdots, x_{M}(t_k)], \\quad\n",
    "Z =\\begin{pmatrix}\n",
    "x_1(t_0)& x_2(t_0)&\\cdots& x_{M}(t_0)\\\\\n",
    "x_1(t_1)& x_2(t_1)&\\cdots& x_{M}(t_1)\\\\\n",
    "x_1(t_2)& x_2(t_2)&\\cdots& x_{M}(t_2)\\\\\n",
    "\\vdots& \\vdots&\\ddots& \\vdots\\\\\n",
    "x_1(t_{N})& x_2(t_{N})&\\cdots& x_{M}(t_{N})\n",
    "\\end{pmatrix}\n",
    "$$\n",
    "\n",
    "1. Write a python function <b> EulerOdeSys </b> that takes $f,c,t$ and return the solution $Z$ of the initial value problem \\eqref{eul2} using Euler method i.e.\n",
    "$$ z_{k+1} = z_k + Hf(z_k,t_k) $$\n"
   ]
  },
  {
   "cell_type": "code",
   "execution_count": 24,
   "id": "9f47dc22",
   "metadata": {},
   "outputs": [],
   "source": [
    "def EulerOdeSys(f,c,t):\n",
    "    H=t[1]-t[0]\n",
    "    N=len(t)-1\n",
    "    M=len(c)\n",
    "    z = np.ones((N+1, M))\n",
    "    z[0] = c\n",
    "    for i in range(N):\n",
    "        z[i+1]=z[i]+H*f(z[i],t[i])\n",
    "    return z\n",
    "    "
   ]
  },
  {
   "cell_type": "markdown",
   "id": "dd1978b2",
   "metadata": {},
   "source": [
    "2. Write a python function <b> RalstonOdeSys </b> that takes $f,c,t$ and return the solution $Z$ of the initial value problem (1) using the Ralston method i.e.\n",
    "\n",
    "\\begin{equation}\n",
    "\\begin{cases}\n",
    "k_1 = f(z_k,t_k),\\\\\\\\\n",
    "k_2 = f(z_k+\\dfrac{2}{3}Hk_1, t_k + \\dfrac{2}{3}H),\\\\\\\\\n",
    "z_{k+1} = z_k + H(\\dfrac{1}{4}k_1+\\dfrac{3}{4}k_2)\n",
    "\\end{cases}\n",
    "\\end{equation}\n"
   ]
  },
  {
   "cell_type": "code",
   "execution_count": 25,
   "id": "641387c4",
   "metadata": {},
   "outputs": [],
   "source": [
    "def RalstonOdeSys (f,c,t):\n",
    "    H = t[1] - t[0]\n",
    "    z = np.ones((len(t), len(c)))\n",
    "    z[0] = c\n",
    "    \n",
    "    for k in range(len(t) - 1):\n",
    "        k1 = f(z[k], t[k])\n",
    "        k2 = f(z[k]+ (H*(2*k1/3)), t[k] + (2*H/3))\n",
    "        z[k+1] = z[k] + H*(1/4*k1+3/4*k2)\n",
    "    return z"
   ]
  },
  {
   "cell_type": "markdown",
   "id": "21b27a01",
   "metadata": {},
   "source": [
    "**Problem 5**\n",
    "\n",
    "Let $\\{ x_k\\}$ be a partition of $[a,b]$ such that $a=x_0<\\cdots<x_{N-1}<x_{N}=b$ and $H$ be the constant length of the $k$-th subinterval ($H = x_k - x_{k-1}$). Let consider the second-order differential equation\n",
    "\n",
    "\\begin{equation}\n",
    "  \\begin{cases}\n",
    "   \\dfrac{d^2 y}{dx^2} + \\dfrac{d y}{dx}-6y = 0 \\qquad\\forall x\\in [a,b]\\\\\\\\\n",
    "\\dfrac{d y}{dx}(a)=0 , y(a) = 1\n",
    "  \\end{cases}\n",
    "\\end{equation}\n",
    "\n",
    "Let $\\{ y_k\\}$ be the approximate solution i.e.  $y_k\\approx g(x_k)=g_k$ where $g(x) = \\dfrac{3}{5}e^{2x}+ \\dfrac{2}{5}e^{-3x}$ is the exact solution. Let us denote $e_k = \\mid g_k - y_k\\mid$\n",
    "\n",
    "1- Using the Python in-built function **odeint**, write a python function <b> SODE </b> that takes $a,b,N$ (with $N= 100$ as default value) and return array of all $x_k$, $y_k$, $g_k$ and $e_k$.\n"
   ]
  },
  {
   "cell_type": "code",
   "execution_count": 26,
   "id": "7248a60a",
   "metadata": {},
   "outputs": [],
   "source": [
    "def f(U,x):\n",
    "    y,z = U\n",
    "    dydx = z\n",
    "    dzdx = -z+6*y\n",
    "    return np.array([dydx,dzdx])\n",
    "\n",
    "def SODE(a,b,N=100):\n",
    "    # initial condition\n",
    "    c = [1,0]\n",
    "    \n",
    "    # syst of odes\n",
    "  \n",
    "\n",
    "    # time points\n",
    "    x = np.linspace(a,b,N+1)\n",
    "    u = odeint(f,c,x)\n",
    "    g=lambda x:3/5*np.exp(2*x)+2/5*np.exp(-3*x)\n",
    "    E=abs(u[:,0]-g(x))\n",
    "    return x, u[:,0],g(x),E"
   ]
  },
  {
   "cell_type": "markdown",
   "id": "bfc1fdbf",
   "metadata": {},
   "source": [
    "2- Using **SODE**, solve the second-order differential equation for $a = 0, b = 2$ and use subplot to plot side by side\n",
    "- $y_k$ and $g_k$ vs $x_k$\n",
    "- $e_k$ vs $x_k$"
   ]
  },
  {
   "cell_type": "code",
   "execution_count": 27,
   "id": "38c2dc59",
   "metadata": {},
   "outputs": [
    {
     "name": "stdout",
     "output_type": "stream",
     "text": [
      "y= [ 1.          1.00119228  1.00474041  1.01060619  1.01875767  1.02916894\n",
      "  1.04182002  1.05669662  1.07379002  1.09309695  1.11461947  1.13836486\n",
      "  1.16434554  1.19257899  1.22308771  1.25589914  1.29104568  1.32856462\n",
      "  1.36849814  1.41089334  1.45580224  1.5032818   1.55339395  1.60620566\n",
      "  1.66178899  1.72022116  1.78158464  1.84596721  1.91346212  1.98416813\n",
      "  2.05818972  2.13563714  2.21662663  2.30128053  2.38972748  2.48210257\n",
      "  2.57854756  2.67921107  2.78424883  2.89382383  3.00810667  3.12727573\n",
      "  3.25151747  3.38102672  3.51600699  3.65667073  3.80323971  3.95594534\n",
      "  4.11502904  4.28074259  4.45334855  4.63312066  4.82034428  5.01531682\n",
      "  5.21834823  5.42976144  5.64989296  5.87909331  6.11772764  6.3661763\n",
      "  6.62483542  6.89411756  7.17445235  7.46628719  7.77008795  8.08633971\n",
      "  8.41554754  8.7582373   9.11495648  9.48627506  9.87278645 10.27510841\n",
      " 10.69388403 11.1297828  11.58350162 12.05576595 12.54733097 13.05898277\n",
      " 13.59153962 14.14585325 14.72281027 15.3233335  15.94838354 16.59896024\n",
      " 17.27610433 17.98089904 18.71447191 19.47799655 20.27269446 21.09983707\n",
      " 21.96074776 22.85680396 23.78943933 24.76014607 25.77047735 26.82204975\n",
      " 27.91654583 29.05571685 30.24138559 31.47544925 32.75988246]\n"
     ]
    },
    {
     "data": {
      "image/png": "[encoded data removed]",
      "text/plain": [
       "<Figure size 1080x288 with 2 Axes>"
      ]
     },
     "metadata": {
      "needs_background": "light"
     },
     "output_type": "display_data"
    }
   ],
   "source": [
    "a=0\n",
    "b=2\n",
    "\n",
    "x,y1,g,e=SODE(a,b)\n",
    "print(\"y=\",y1)\n",
    "plt.figure(figsize=(15,4))\n",
    "plt.subplot(1,2,1)\n",
    "plt.plot(x,y1,\"r--\",label=\"approximation\")\n",
    "plt.plot(x,g,label=\"exact\")\n",
    "plt.xlabel(\"x\")\n",
    "plt.ylabel(\"y(x) and g(x)\")\n",
    "plt.legend()\n",
    "\n",
    "plt.subplot(1,2,2)\n",
    "plt.plot(x,e,\"g\")\n",
    "plt.xlabel(\"x\")\n",
    "plt.ylabel(\"|y-g(x)|\")\n",
    "plt.title(\"error\")\n",
    "plt.show()"
   ]
  },
  {
   "cell_type": "markdown",
   "id": "a8069746",
   "metadata": {},
   "source": [
    "3- Using <b> RalstonOdeSys </b>, solve the second-order differential equation for $a = 0, b = 2$ and use subplot to plot side by side\n",
    "- $y_k$ and $g_k$ vs $x_k$\n",
    "- $e_k$ vs $x_k$"
   ]
  },
  {
   "cell_type": "code",
   "execution_count": 28,
   "id": "39175089",
   "metadata": {},
   "outputs": [
    {
     "data": {
      "image/png": "[encoded data removed]",
      "text/plain": [
       "<Figure size 1080x288 with 2 Axes>"
      ]
     },
     "metadata": {
      "needs_background": "light"
     },
     "output_type": "display_data"
    }
   ],
   "source": [
    "c=np.array([1,0])\n",
    "\n",
    "N=100\n",
    "\n",
    "U= RalstonOdeSys(f,c,x)\n",
    "\n",
    "plt.figure(figsize=(15,4))\n",
    "plt.subplot(1,2,1)\n",
    "plt.plot(x,U[:,0],\"r--\",label=\"approximation\")\n",
    "plt.plot(x,g,label=\"exact\")\n",
    "plt.xlabel(\"x\")\n",
    "plt.ylabel(\"y(x) and g(x)\")\n",
    "plt.legend()\n",
    "\n",
    "plt.subplot(1,2,2)\n",
    "plt.plot(x,abs(U[:,0]-g),\"g\")\n",
    "plt.xlabel(\"x\")\n",
    "plt.ylabel(\"|y-g(x)|\")\n",
    "plt.title(\"error\")\n",
    "plt.show()"
   ]
  },
  {
   "cell_type": "markdown",
   "id": "af61af39",
   "metadata": {},
   "source": [
    "4- Using <b> EulerOdeSys </b>, solve the second-order differential equation for $a = 0, b = 2$ and use subplot to plot side by side\n",
    "- $y_k$ and $g_k$ vs $x_k$\n",
    "- $e_k$ vs $x_k$"
   ]
  },
  {
   "cell_type": "code",
   "execution_count": 29,
   "id": "6b842f4a",
   "metadata": {},
   "outputs": [
    {
     "data": {
      "image/png": "[encoded data removed]",
      "text/plain": [
       "<Figure size 1080x288 with 2 Axes>"
      ]
     },
     "metadata": {
      "needs_background": "light"
     },
     "output_type": "display_data"
    }
   ],
   "source": [
    "c=np.array([1,0])\n",
    "\n",
    "N=100\n",
    "\n",
    "v= EulerOdeSys(f,c,x)\n",
    "\n",
    "plt.figure(figsize=(15,4))\n",
    "plt.subplot(1,2,1)\n",
    "plt.plot(x,v[:,0],\"r--\",label=\"approximation\")\n",
    "plt.plot(x,g,label=\"exact\")\n",
    "plt.xlabel(\"x\")\n",
    "plt.ylabel(\"y(x)and g(x)\")\n",
    "plt.legend()\n",
    "\n",
    "plt.subplot(1,2,2)\n",
    "plt.plot(x,abs(v[:,0]-g),\"g\")\n",
    "plt.xlabel(\"x\")\n",
    "plt.ylabel(\"|y-g(x)|\")\n",
    "plt.title(\"error\")\n",
    "plt.show()"
   ]
  },
  {
   "cell_type": "markdown",
   "id": "5ac35f5c",
   "metadata": {},
   "source": [
    "5- The L2 error, $L2Er$ between the exact and the approximate solution given by\n",
    "\n",
    "$$L2Er = \\sum_0^N H(y_k - g_k)^2$$\n",
    "\n",
    "\n",
    "Write a function called **L2_error** that takes $a,b,H$ and return the L2 error between $g_k$ and the approximate solution $y_k$ obtained using **SODEt**, **RalstonOdeSys** and **EulerOdeSys**."
   ]
  },
  {
   "cell_type": "code",
   "execution_count": 30,
   "id": "3fe20332",
   "metadata": {},
   "outputs": [],
   "source": [
    "def L2_error(a,b,H):\n",
    "    N=int((b-a)/H)\n",
    "    x,ysod,g,e = SODE(a,b,N)\n",
    "    yral = RalstonOdeSys(f,c,x)\n",
    "    yeul = EulerOdeSys(f,c,x)\n",
    "    g=3/5*np.exp(2*x)+2/5*np.exp(-3*x)\n",
    "\n",
    "    L2Er_SODE = (H*(ysod - g)**2)\n",
    "    L2Er_Rals = (H*(yral[:,0] - g)**2)\n",
    "    L2Er_Euler = (H*(yeul[:,0] - g)**2)\n",
    "    return np.array([sum(L2Er_SODE), sum(L2Er_Rals),sum(L2Er_Euler)])"
   ]
  },
  {
   "cell_type": "markdown",
   "id": "f8773444",
   "metadata": {},
   "source": [
    "6- Let us denote $L2Er_j$ the output of **L2_error** for a given argument $a,b,H_j$. Using **SODE**, **RalstonOdeSys** and **EulerOdeSys**, compute the array of $L2Er_j$ for $a = 0, b=2$ and $H_j$ in an array $L =[ 10^{-1}, 10^{-2}, 10^{-3}, 10^{-4}]$."
   ]
  },
  {
   "cell_type": "code",
   "execution_count": 31,
   "id": "acc3a81d",
   "metadata": {},
   "outputs": [
    {
     "name": "stdout",
     "output_type": "stream",
     "text": [
      "Error sode [1.87003021e-13 1.35459618e-13 1.30086659e-13 1.74517796e-13]\n",
      "Error Ralston  [1.38218605e-01 1.48156369e-05 1.48796391e-09 1.48856117e-13]\n",
      "Error Euler [2.43626982e+01 3.23553264e-01 3.34389331e-03 3.35510602e-05]\n"
     ]
    }
   ],
   "source": [
    "Hj = np.array([10**-1,10**-2,10**-3,10**-4])\n",
    "L2Erj =np.zeros((4,3))\n",
    "for i in range(len(Hj)):\n",
    "    L2Erj[i]=L2_error(0,2,Hj[i])\n",
    "print(\"Error sode\",L2Erj[:,0])\n",
    "print(\"Error Ralston \",L2Erj[:,1])\n",
    "print(\"Error Euler\",L2Erj[:,2])"
   ]
  },
  {
   "cell_type": "markdown",
   "id": "64b40f0d",
   "metadata": {},
   "source": [
    "7- For each method **SODE**, **RalstonOdeSys** and **EulerOdeSys**, plot in the same graph $log(L2Er_j)$ vs $log(H_j)$."
   ]
  },
  {
   "cell_type": "code",
   "execution_count": 32,
   "id": "8ac7eb00",
   "metadata": {},
   "outputs": [
    {
     "data": {
      "image/png": "[encoded data removed]",
      "text/plain": [
       "<Figure size 432x288 with 1 Axes>"
      ]
     },
     "metadata": {
      "needs_background": "light"
     },
     "output_type": "display_data"
    }
   ],
   "source": [
    "\n",
    "plt.plot(np.log(Hj),np.log(L2Erj[:,0]),label=\"SODE\")\n",
    "\n",
    "plt.plot(np.log(Hj),np.log(L2Erj[:,1]),label=\"RalstonOdeSys\")\n",
    "\n",
    "plt.plot(np.log(Hj),np.log(L2Erj[:,2]),label=\"EulerOdeSys\")\n",
    "plt.xlabel('log(Hj)')\n",
    "plt.ylabel('log(L2Erj0')\n",
    "plt.legend()\n",
    "plt.show()"
   ]
  },
  {
   "cell_type": "markdown",
   "id": "7732222c",
   "metadata": {},
   "source": [
    "8- By assuming that $log(H_j)$ is the explanatory variable of $log(L2Er_j)$, complete the simple linear regression in the case of  **RalstonOdeSys**, **EulerOdeSys** and display the regression coeficient.\n",
    "\n",
    "Note: Use the whole data to train your linear model."
   ]
  },
  {
   "cell_type": "code",
   "execution_count": 37,
   "id": "37972d31",
   "metadata": {},
   "outputs": [
    {
     "name": "stdout",
     "output_type": "stream",
     "text": [
      "The regression coefficient of the Log of Error against method\n",
      "alpha_RalstonOdeSys=  3.9901527379846207\n",
      "beta_RalstonOdeSys =  7.229065656161735\n",
      "alpha_EulerOdeSys =  1.956875078819168\n",
      "beta_EulerOdeSys =  7.780078485097798\n"
     ]
    }
   ],
   "source": [
    "dic = {'LogHj':np.log(Hj),\n",
    "      'RalstonOdeSys': np.log(L2Erj[:,1]),'EulerOdeSys' : np.log(L2Erj[:,2]) }\n",
    "\n",
    "df = pd.DataFrame(dic)\n",
    "# Create linear regression object\n",
    "Single_lr1= LinearRegression()\n",
    "Single_lr2= LinearRegression()\n",
    "X=df.LogHj.values.reshape(-1, 1) # independent variable\n",
    "Y1=df.RalstonOdeSys.values.flatten() # dependent variable\n",
    "Y2=df.EulerOdeSys.values.flatten() # dependent variable\n",
    "Single_lr1.fit(X, Y1)\n",
    "Single_lr2.fit(X, Y2)\n",
    "# get the value of alpha and beta\n",
    "alpha1 = Single_lr1.coef_\n",
    "beta1 = Single_lr1.intercept_\n",
    "alpha2 = Single_lr2.coef_\n",
    "beta2 = Single_lr2.intercept_\n",
    "# print the value of alpha and beta\n",
    "print(\"The regression coefficient of the Log of Error against method\")\n",
    "print('alpha_RalstonOdeSys= ', alpha1[0])\n",
    "print('beta_RalstonOdeSys = ', beta1)\n",
    "print('alpha_EulerOdeSys = ', alpha2[0])\n",
    "print('beta_EulerOdeSys = ', beta2)"
   ]
  },
  {
   "cell_type": "markdown",
   "id": "330ea9b3",
   "metadata": {},
   "source": [
    "**Problem 6**\n",
    "\n",
    "1-The cost of admission to the world cup 2022 game is\n",
    "- 320 USD for 3 children, 1 female  and 1 male \n",
    "- 600 USD  for 4 females and 2 males \n",
    "- 600 USD  for 5 children, 2 females and 2 males \n",
    "\n",
    "Transform the problem into a system of equation (as markdown in the cell below)"
   ]
  },
  {
   "cell_type": "markdown",
   "id": "b8c7936a",
   "metadata": {},
   "source": [
    "Let by\n",
    "- x the cost for the children,\n",
    "- y the cost for the females,\n",
    "- z the cost for the males \n",
    " \n",
    " we have:\n",
    "  \n",
    "\\begin{equation}\n",
    "\\begin{cases}\n",
    "    3x+y+z=320\\\\\n",
    "    4y+2z=600\\\\\n",
    "    5x+2y+2z=600\n",
    "\\end{cases}\n",
    "\\end{equation}\n"
   ]
  },
  {
   "cell_type": "markdown",
   "id": "2ad69a8a",
   "metadata": {},
   "source": [
    "2- Write a Python code to compute and display how much is the admission for each child, female and male?"
   ]
  },
  {
   "cell_type": "code",
   "execution_count": 34,
   "id": "298099ed",
   "metadata": {},
   "outputs": [
    {
     "name": "stdout",
     "output_type": "stream",
     "text": [
      "The cost for children is: 40 USD \n",
      "The cost for females is: 100 USD \n",
      "The cost for males is: 100 USD\n"
     ]
    }
   ],
   "source": [
    "h=np.array([[3,1,1],[0,4,2],[5,2,2]])\n",
    "k=np.array([320,600,600])\n",
    "m=np.linalg.solve(h,k)\n",
    "print(\"The cost for children is:\",round(m[0]),\"USD\",\"\\nThe cost for females is:\",round(m[1]),\"USD\",\n",
    "      \"\\nThe cost for males is:\",round(m[2]),\"USD\")"
   ]
  },
  {
   "cell_type": "markdown",
   "id": "63d1154f",
   "metadata": {},
   "source": [
    "3- Using the Python in-built function fsolve with unitial guess $x=1, y=1$, write a Python code to solve the following system\n",
    "\n",
    "\\begin{equation}\n",
    "\\begin{cases}\n",
    "    e^{x^2} + x = sin(y)\\\\\n",
    "    2e^x + cos(y)= 2\n",
    "\\end{cases}\n",
    "\\end{equation}\n"
   ]
  },
  {
   "cell_type": "code",
   "execution_count": 35,
   "id": "c4167f17",
   "metadata": {},
   "outputs": [
    {
     "name": "stdout",
     "output_type": "stream",
     "text": [
      "x= -0.3793915333122747\n",
      "y= -5.395803917749443\n"
     ]
    }
   ],
   "source": [
    "def sys(z):\n",
    "    x=z[0]\n",
    "    y=z[1]\n",
    "    \n",
    "    f=np.zeros(2)\n",
    "    f[0]=np.exp(x**2)+x-np.sin(y)\n",
    "    f[1]=2*np.exp(x)+np.cos(y)-2\n",
    "    return  f\n",
    "guess=np.array([1,1])\n",
    "z=fsolve(sys,guess)\n",
    "print(\"x=\",z[0])\n",
    "print(\"y=\",z[1])"
   ]
  },
  {
   "cell_type": "code",
   "execution_count": null,
   "id": "be9faac0",
   "metadata": {},
   "outputs": [],
   "source": [
    "import numpy as np\n",
    "from numpy.linalg import solve\n",
    "from scipy.optimize import fsolve\n",
    "from scipy.integrate import odeint,quad\n",
    "import matplotlib.pyplot as plt\n",
    "\n",
    "def MatGenerator(a,b,alp,lam,beta,N,g):\n",
    "    H=(b-a)/N\n",
    "    global x\n",
    "    x=np.linspace(a,b,N+1)\n",
    "    B=np.zeros(N+1)\n",
    "    B[0]=alp\n",
    "    B[N]=beta\n",
    "    B[1:N]=(H**2/lam**2)*g(x[1:N])\n",
    "    A=np.eye(N+1,N+1)\n",
    "    A[1,0]=-1\n",
    "    A[N-1,N]=-1\n",
    "    A[1:N,1:N]=-np.eye(N-1,N-1,k=-1)+2*np.eye(N-1,N-1,k=0)-np.eye(N-1,N-1,k=1)\n",
    "    return A,B"
   ]
  },
  {
   "cell_type": "code",
   "execution_count": null,
   "id": "50e8aab7",
   "metadata": {},
   "outputs": [],
   "source": [
    "g=lambda x: -4*(1+x)*np.exp(x)\n",
    "a=0\n",
    "b=1\n",
    "alp=-4\n",
    "lam=1\n",
    "beta=0\n",
    "N=100\n",
    "A,B=MatGenerator(a,b,alp,lam,beta,N,g)\n",
    "U=np.linalg.solve(A,B)\n",
    "print(U)\n",
    "plt.plot(x,U)\n",
    "plt.grid()\n",
    "plt.xlabel(\"$x$\")\n",
    "plt.ylabel(\"$U_{app}(x)$\")\n",
    "plt.title(\"Apprioximation\")\n",
    "plt.show()"
   ]
  },
  {
   "cell_type": "code",
   "execution_count": null,
   "id": "4546998b",
   "metadata": {},
   "outputs": [],
   "source": [
    "# split-up our current X & y variables into training\n",
    "# and testing data.\n",
    "\n",
    "X_train, X_test, Y_train, Y_test = train_test_split(X, Y, test_size=0.2, random_state=42)\n",
    "\n",
    "# Now we need to initiate our model and train it\n",
    "Single_lr.fit(X_train, Y_train)\n",
    "# Make predictions using the testing set\n",
    "Y_pred = Single_lr.predict(X_test)\n",
    "\n",
    "# R-squared\n",
    "print('R-squared: %.2f' % r2_score(Y_test, Y_pred))\n",
    "# mean absolute error\n",
    "print(\"mean absolute error: %.2f\"% mean_absolute_error(Y_test, Y_pred))\n",
    "# Mean squared error\n",
    "print(\"Mean squared error: %.2f\"% mean_squared_error(Y_test, Y_pred))\n",
    "# Plot outputs\n",
    "plt.scatter(X_test, Y_test,  color='black')\n",
    "plt.plot(X_test, Y_pred, color='blue', linewidth=3)\n",
    "\n",
    "plt.show()\n"
   ]
  },
  {
   "cell_type": "code",
   "execution_count": null,
   "id": "c8c27839",
   "metadata": {},
   "outputs": [],
   "source": [
    "X, V  = np.meshgrid(np.linspace(-5.0, 5.0, 26), np.linspace(-5.0, 5.0, 26))\n",
    "\n",
    "\n",
    "dxdt = V\n",
    "dvdt = -np.sin(X)\n",
    "\n",
    "plt.streamplot(X, V, dxdt, dvdt)\n",
    "plt.axis('square')\n",
    "plt.axis([-6, 6, -6, 6])\n",
    "plt.title(\"Phase diagram\")\n",
    "plt.xlabel(\"x\")\n",
    "plt.ylabel(\"$\\dotx$\")\n",
    "plt.show()\n"
   ]
  },
  {
   "cell_type": "code",
   "execution_count": null,
   "id": "8725dca7",
   "metadata": {},
   "outputs": [],
   "source": [
    "def f(z,t):\n",
    "    x,y=z\n",
    "    dxdt=3*x-2*y\n",
    "    dydt=2*x-2*y\n",
    "    return np.array([dxdt,dydt])\n",
    "\n",
    "\n",
    "def eulermodif(f,c,t):\n",
    "    H = t[1] - t[0]\n",
    "    z = np.ones((len(t), len(c)))\n",
    "    z[0] = c\n",
    "    \n",
    "    for k in range(len(t) - 1):\n",
    "        k1 = H*f(z[k], t[k])\n",
    "        k2 = H*f(z[k]+ k1, t[k] + H)\n",
    "        z[k+1] = z[k] + 1/2*(k1+k2)\n",
    "    return z\n",
    "\n",
    "N=100\n",
    "c=[1,0]\n",
    "t=np.linspace(0,1,N+1)\n",
    "\n",
    "#exact solution\n",
    "x=lambda t: 4/3*np.exp(2*t)-1/3*np.exp(-t)\n",
    "y=lambda t:  2/3*np.exp(2*t)-2/3*np.exp(-t)\n",
    "\n",
    "\n",
    "plt.figure(figsize=(15,4))\n",
    "\n",
    "sol=eulermodif (f,c,t)\n",
    "plt.subplot(1,2,1)\n",
    "plt.plot(t,sol[:,0],\"r--\",label=\"approximation\")\n",
    "plt.plot(t,x(t),label=\"exact\")\n",
    "plt.xlabel(\"t\")\n",
    "plt.ylabel(\"x(t)\")\n",
    "plt.legend()\n",
    "\n",
    "plt.subplot(1,2,2)\n",
    "plt.plot(t,sol[:,1],\"r--\",label=\"approximation\")\n",
    "plt.plot(t,y(t),label=\"exact\")\n",
    "plt.xlabel(\"t\")\n",
    "plt.ylabel(\"y(t)\")\n",
    "plt.legend()\n",
    "plt.show()"
   ]
  }
 ],
 "metadata": {
  "kernelspec": {
   "display_name": "Python 3",
   "language": "python",
   "name": "python3"
  },
  "language_info": {
   "codemirror_mode": {
    "name": "ipython",
    "version": 3
   },
   "file_extension": ".py",
   "mimetype": "text/x-python",
   "name": "python",
   "nbconvert_exporter": "python",
   "pygments_lexer": "ipython3",
   "version": "3.9.2"
  }
 },
 "nbformat": 4,
 "nbformat_minor": 5
}
